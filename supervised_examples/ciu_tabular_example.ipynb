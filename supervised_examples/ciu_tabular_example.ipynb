{
 "cells": [
  {
   "cell_type": "markdown",
   "id": "7a46bb39-7ea5-428e-a9fd-bea9882bdcdb",
   "metadata": {},
   "source": [
    "Taken from\n",
    "https://github.com/TimKam/py-ciu/blob/master/examples/Random_Forrest_CIU.ipynb"
   ]
  },
  {
   "cell_type": "markdown",
   "id": "ab859889-1bfd-4f11-81de-31243da734ca",
   "metadata": {},
   "source": [
    "# Setup"
   ]
  },
  {
   "cell_type": "code",
   "execution_count": 58,
   "id": "df19082f-06e3-4912-a653-2cb3e6613c41",
   "metadata": {},
   "outputs": [],
   "source": [
    "from sklearn.ensemble import RandomForestClassifier\n",
    "from ciu import determine_ciu"
   ]
  },
  {
   "cell_type": "code",
   "execution_count": 5,
   "id": "4a241497-dd41-4cf9-aa82-7a42e68a03ee",
   "metadata": {},
   "outputs": [],
   "source": [
    "# define data generator\n",
    "import random\n",
    "import pandas as pd\n",
    "\n",
    "\n",
    "def classify_case(case):\n",
    "    \"\"\"\n",
    "    Classifies a loan approval case, using a set of rules that include explicit\n",
    "    gender bias.\n",
    "    :param case:\n",
    "    :return: True, if loan should be approved, else False\n",
    "    \"\"\"\n",
    "\n",
    "    if case['gender'] != 'male' and random.random() > 0.5:\n",
    "        return False\n",
    "    if case['monthly_income'] > 5000 and case['assets'] > 10000:\n",
    "        return True\n",
    "\n",
    "    return False\n",
    "\n",
    "\n",
    "def generate_data(labelled=True):\n",
    "    \"\"\"\n",
    "    Generates synthetic test/example data: loan application data\n",
    "    :return: Pandas Dataframe\n",
    "    \"\"\"\n",
    "    data = {\n",
    "        'age': [],\n",
    "        'gender': [],\n",
    "        'assets': [],\n",
    "        'job_type': [],\n",
    "        'monthly_income': [],\n",
    "        'approved': []\n",
    "    }\n",
    "\n",
    "    for _ in range(0,2000):\n",
    "        case = {\n",
    "            'age': random.randint(20, 70),\n",
    "            'gender': ['female', 'male', 'other'][random.randint(0, 2)],\n",
    "            'assets': random.randint(-20000, 150000),\n",
    "            'job_type': ['fixed', 'permanent', 'none'][random.randint(0, 2)],\n",
    "            'monthly_income': random.randint(0, 20000)\n",
    "        }\n",
    "        case['approved'] = classify_case(case)\n",
    "\n",
    "        data['age'].append(case['age'])\n",
    "        data['gender'].append(case['gender'])\n",
    "        data['assets'].append(case['assets'])\n",
    "        data['job_type'].append(case['job_type'])\n",
    "        data['monthly_income'].append(case['monthly_income'])\n",
    "        if labelled:\n",
    "            data['approved'].append(case['approved'])\n",
    "\n",
    "    data_df = pd.DataFrame(data=data)\n",
    "    data_df_encoded = pd.get_dummies(data_df)\n",
    "    return {\n",
    "        'train': [\n",
    "            data_df[:1000], data_df_encoded[:1000]\n",
    "        ],\n",
    "        'test': [\n",
    "            data_df[-1000:], data_df_encoded[-1000:]\n",
    "        ]}"
   ]
  },
  {
   "cell_type": "markdown",
   "id": "af6c05ba-1ea3-4054-bea6-32f59b0c85a5",
   "metadata": {},
   "source": [
    "# Running CIU"
   ]
  },
  {
   "cell_type": "code",
   "execution_count": 7,
   "id": "78ed0c76-f168-491a-b7a1-14f1c29356a2",
   "metadata": {},
   "outputs": [],
   "source": [
    "# generate data\n",
    "data = generate_data()\n",
    "train_data = data['train'][1]\n",
    "test_data = data\n",
    "test_data_encoded = data['test'][1].drop(['approved'], axis=1)\n"
   ]
  },
  {
   "cell_type": "code",
   "execution_count": 9,
   "id": "b5dcd6b6-00a7-4cb0-bc5f-b9b8d8553c53",
   "metadata": {},
   "outputs": [
    {
     "data": {
      "text/plain": [
       "RandomForestClassifier(n_estimators=1000, random_state=42)"
      ]
     },
     "execution_count": 9,
     "metadata": {},
     "output_type": "execute_result"
    }
   ],
   "source": [
    "# create and train predictive model\n",
    "random_forest = RandomForestClassifier(\n",
    "    n_estimators=1000,\n",
    "    random_state=42\n",
    ")\n",
    "\n",
    "labels = train_data[['approved']].values.ravel()\n",
    "data = train_data.drop(['approved'], axis=1)\n",
    "random_forest.fit(data, labels)"
   ]
  },
  {
   "cell_type": "code",
   "execution_count": 66,
   "id": "b195803c-bf7d-4db8-98f3-4606d0f650a0",
   "metadata": {},
   "outputs": [
    {
     "name": "stdout",
     "output_type": "stream",
     "text": [
      "Case       age  assets  monthly_income  gender_female  gender_male  gender_other  \\\n",
      "1000   52   -3462           17710              0            0             1   \n",
      "\n",
      "      job_type_fixed  job_type_none  job_type_permanent  \n",
      "1000               0              0                   1  \n",
      "Prediction:[False]\n",
      "Probability: [[0.99 0.01]]\n"
     ]
    }
   ],
   "source": [
    "# choose a particular case to evaluate the CIU\n",
    "feature_names = list(data.columns)\n",
    "\n",
    "case_idx = 0\n",
    "case_row = test_data_encoded[case_idx:case_idx+1]\n",
    "case = case_row.values\n",
    "example_prediction = random_forest.predict(case)\n",
    "example_prediction_prob = random_forest.predict_proba(case)\n",
    "prediction_index = 0 if example_prediction[0] > 0.5 else 1\n",
    "\n",
    "print(\"Case\", case_row)\n",
    "print(f\"Prediction:{example_prediction}\\nProbability: {example_prediction_prob}\")"
   ]
  },
  {
   "cell_type": "code",
   "execution_count": 67,
   "id": "8fc46515-a505-4040-90cd-389fc055d9c6",
   "metadata": {},
   "outputs": [],
   "source": [
    "# calculate the CIU\n",
    "category_mapping = {\n",
    "    'gender': ['gender_female', 'gender_male', 'gender_other'],\n",
    "    'job_type': ['job_type_fixed', 'job_type_none', 'job_type_permanent']\n",
    "}\n",
    "\n",
    "feature_interactions = [{'assets_income': ['assets', 'monthly_income']}]\n",
    "\n",
    "ciu = determine_ciu(\n",
    "    test_data_encoded.iloc[0, :].to_dict(),\n",
    "    random_forest.predict_proba,\n",
    "    {\n",
    "        'age': [20, 70, True],\n",
    "        'assets': [-20000, 150000, True],\n",
    "        'monthly_income': [0, 20000, True],\n",
    "        'gender_female': [0, 1, True],\n",
    "        'gender_male': [0, 1, True],\n",
    "        'gender_other': [0, 1, True],\n",
    "        'job_type_fixed': [0, 1, True],\n",
    "        'job_type_none': [0, 1, True],\n",
    "        'job_type_permanent': [0, 1, True]\n",
    "    },\n",
    "    1000,\n",
    "    prediction_index,\n",
    "    category_mapping,\n",
    "    feature_interactions\n",
    ")"
   ]
  },
  {
   "cell_type": "code",
   "execution_count": 68,
   "id": "fc0a812b-49b0-4c70-846f-cb32dd55c613",
   "metadata": {},
   "outputs": [
    {
     "data": {
      "image/png": "[encoded data removed]",
      "text/plain": [
       "<Figure size 432x288 with 1 Axes>"
      ]
     },
     "metadata": {
      "needs_background": "light"
     },
     "output_type": "display_data"
    }
   ],
   "source": [
    "ciu.plot_ci()"
   ]
  },
  {
   "cell_type": "code",
   "execution_count": 69,
   "id": "07e584da-b022-4187-b832-afe7245c5101",
   "metadata": {},
   "outputs": [
    {
     "data": {
      "image/png": "[encoded data removed]",
      "text/plain": [
       "<Figure size 432x288 with 1 Axes>"
      ]
     },
     "metadata": {
      "needs_background": "light"
     },
     "output_type": "display_data"
    }
   ],
   "source": [
    "ciu.plot_cu()"
   ]
  },
  {
   "cell_type": "code",
   "execution_count": 70,
   "id": "210f7ad2-942b-433a-8537-a56b544406e8",
   "metadata": {},
   "outputs": [
    {
     "name": "stdout",
     "output_type": "stream",
     "text": [
      "['The feature \"age\", which is not important (CI=15.75%), is not typical for its class (CU=0.1%).', 'The feature \"assets\", which is highly important (CI=87.18%), is not typical for its class (CU=0.1%).', 'The feature \"monthly_income\", which is not important (CI=5.87%), is not typical for its class (CU=20.45%).', 'The feature \"gender\", which is not important (CI=4.41%), is not typical for its class (CU=0.1%).', 'The feature \"job_type\", which is not important (CI=2.67%), is not typical for its class (CU=15.0%).', 'The feature \"assets_income\", which is highly important (CI=100.0%), is not typical for its class (CU=1.2%).']\n"
     ]
    }
   ],
   "source": [
    "print(ciu.text_explain())"
   ]
  },
  {
   "cell_type": "code",
   "execution_count": null,
   "id": "6489c1f1-611e-4708-a2a0-bb2f0ed9659e",
   "metadata": {},
   "outputs": [],
   "source": []
  }
 ],
 "metadata": {
  "kernelspec": {
   "display_name": "Python 3 (ipykernel)",
   "language": "python",
   "name": "python3"
  },
  "language_info": {
   "codemirror_mode": {
    "name": "ipython",
    "version": 3
   },
   "file_extension": ".py",
   "mimetype": "text/x-python",
   "name": "python",
   "nbconvert_exporter": "python",
   "pygments_lexer": "ipython3",
   "version": "3.8.12"
  }
 },
 "nbformat": 4,
 "nbformat_minor": 5
}
